{
 "cells": [
  {
   "cell_type": "code",
   "execution_count": null,
   "metadata": {},
   "outputs": [],
   "source": [
    "%pip install openai\n",
    "%pip install python_dotenv\n",
    "%pip install PyPDF2"
   ]
  },
  {
   "cell_type": "code",
   "execution_count": null,
   "metadata": {},
   "outputs": [],
   "source": [
    "import os\n",
    "from openai import AzureOpenAI\n",
    "from dotenv import load_dotenv\n",
    "import PyPDF2"
   ]
  },
  {
   "cell_type": "code",
   "execution_count": null,
   "metadata": {},
   "outputs": [],
   "source": [
    "def extract_text_from_pdf(pdf_path):\n",
    "    with open(pdf_path, 'rb') as file:\n",
    "        reader = PyPDF2.PdfReader(file)\n",
    "        text = ''\n",
    "        for page_num in range(len(reader.pages)):\n",
    "            text += reader.pages[page_num].extract_text()\n",
    "    return text"
   ]
  },
  {
   "cell_type": "code",
   "execution_count": null,
   "metadata": {},
   "outputs": [],
   "source": [
    "load_dotenv()\n",
    "\n",
    "endpoint = os.getenv(\"AZURE_OPENAI_ENDPOINT\")  \n",
    "deployment = os.getenv(\"AZURE_OPENAI_CHAT_DEPLOYMENT_NAME\")  \n",
    "api_key = os.getenv(\"AZURE_OPENAI_API_KEY\")  \n",
    "api_version = os.getenv(\"AZURE_OPENAI_API_VERSION\")\n",
    "\n",
    "client = AzureOpenAI(\n",
    "    azure_endpoint=endpoint,\n",
    "    api_key=api_key,\n",
    "    api_version= api_version)"
   ]
  },
  {
   "cell_type": "code",
   "execution_count": null,
   "metadata": {},
   "outputs": [],
   "source": [
    "pdf1_path = 'C:\\\\Users\\\\rmarcello\\\\Downloads\\\\demo-compare-documents\\\\codice-civile-262_1942.pdf'\n",
    "pdf2_path = 'C:\\\\Users\\\\rmarcello\\\\Downloads\\\\demo-compare-documents\\\\codice-civile-262_1942-2024.pdf'\n",
    "\n",
    "text1 = extract_text_from_pdf(pdf1_path)\n",
    "text2 = extract_text_from_pdf(pdf2_path)\n",
    "\n",
    "print(text1)"
   ]
  },
  {
   "cell_type": "code",
   "execution_count": 7,
   "metadata": {},
   "outputs": [],
   "source": [
    "\n",
    "\n",
    "#continueMessage = \"Press Enter to continue or type 'exit' to quit: \"\n",
    "continueMessage = \"\\nPremi Invio per continuare o digita 'exit' per uscire: \"\n",
    "\n",
    "messageList = [\n",
    "    {\"role\": \"system\", \"content\": \"Sei un agente che aiuta a fare un analisi comparativa di documenti in ambito legale. Elenca gli articoli che sono stati modificati e aggiungi dettagli.\"},\n",
    "    {\"role\": \"user\", \"content\": \"compara questi due documenti: doc1= ---\" + text1 + \"--- doc2= ---\" + text2 + \"---\"},\n",
    "]"
   ]
  },
  {
   "cell_type": "code",
   "execution_count": null,
   "metadata": {},
   "outputs": [
    {
     "name": "stdout",
     "output_type": "stream",
     "text": [
      "\n",
      "\n",
      "assistant /> Ecco un'analisi comparativa dei due documenti, evidenziando gli articoli modificati e aggiungendo dettagli:\n",
      "\n",
      "### Articoli Modificati:\n",
      "\n",
      "1. **Art. 2325 (Nozione/Responsabilità)**\n",
      "   - **Doc1:** Descrive la responsabilità della società per azioni, indicando che per le obbligazioni sociali risponde solo la società con il suo patrimonio.\n",
      "   - **Doc2:** Aggiunge una clausola che specifica la responsabilità illimitata del socio unico in caso di insolvenza della società, se i conferimenti non sono stati effettuati secondo l'art. 2342 o se non è stata attuata la pubblicità prescritta dall'art. 2362.\n",
      "\n",
      "2. **Art. 2326 (Denominazione sociale)**\n",
      "   - **Doc1:** La denominazione sociale deve contenere l'indicazione di società per azioni.\n",
      "   - **Doc2:** Rimane invariato.\n",
      "\n",
      "3. **Art. 2327 (Ammontare minimo del capitale)**\n",
      "   - **Doc1:** La società per azioni deve costituirsi con un capitale non inferiore a un milione di lire.\n",
      "   - **Doc2:** La società per azioni deve costituirsi con un capitale non inferiore a cinquantamila euro.\n",
      "\n",
      "4. **Art. 2328 (Atto costitutivo)**\n",
      "   - **Doc1:** La società deve costituirsi per atto pubblico e l'atto costitutivo deve indicare vari dettagli specifici.\n",
      "   - **Doc2:** La società può essere costituita per contratto o per atto unilaterale. L'atto costitutivo deve essere redatto per atto pubblico e deve indicare dettagli simili a quelli del Doc1, ma con alcune modifiche e aggiunte, come la nomina dei primi amministratori e sindaci, l'importo globale delle spese per la costituzione, e la durata della società.\n",
      "\n",
      "5. **Art. 2329 (Condizioni per la costituzione)**\n",
      "   - **Doc1:** Specifica le condizioni necessarie per la costituzione della società.\n",
      "   - **Doc2:** Aggiunge il rispetto delle previsioni degli articoli 2342, 2343 e 2343-ter relative ai conferimenti.\n",
      "\n",
      "6. **Art. 2330 (Deposito dell'atto costitutivo e iscrizione della società)**\n",
      "   - **Doc1:** Il notaio deve depositare l'atto costitutivo entro trenta giorni.\n",
      "   - **Doc2:** Il notaio deve depositare l'atto costitutivo entro dieci giorni. L'iscrizione della società nel registro delle imprese è richiesta contestualmente al deposito dell'atto costitutivo.\n",
      "\n",
      "7. **Art. 2331 (Effetti dell'iscrizione)**\n",
      "   - **Doc1:** Con l'iscrizione nel registro la società acquista la personalità giuridica.\n",
      "   - **Doc2:** Aggiunge che sono solidalmente e illimitatamente responsabili il socio unico fondatore e quelli tra i soci che hanno deciso, autorizzato o consentito il compimento dell'operazione prima dell'iscrizione. Specifica anche che le somme depositate non possono essere consegnate agli amministratori se non provano l'avvenuta iscrizione della società nel registro.\n",
      "\n",
      "### Articoli Aggiunti:\n",
      "\n",
      "1. **Art. 2325-bis (Società che fanno ricorso al mercato del capitale di rischio)**\n",
      "   - Definisce le società che fanno ricorso al mercato del capitale di rischio come quelle con azioni quotate in mercati regolamentati o diffuse fra il pubblico in misura rilevante.\n",
      "\n",
      "2. **Art. 2325-ter (Società emittenti strumenti finanziari diffusi)**\n",
      "   - Definisce gli emittenti azioni diffuse fra il pubblico in misura rilevante e specifica le condizioni per considerare tali emittenti. Aggiunge anche le disposizioni relative agli emittenti obbligazioni diffuse fra il pubblico in misura rilevante.\n",
      "\n",
      "### Conclusioni:\n",
      "\n",
      "Il documento 2 introduce nuove disposizioni riguardanti le società che fanno ricorso al mercato del capitale di rischio e le società emittenti strumenti finanziari diffusi. Inoltre, apporta modifiche significative agli articoli esistenti, aggiornando le condizioni per la costituzione della società, il capitale minimo richiesto, e le responsabilità dei soci in caso di insolvenza.\n"
     ]
    }
   ],
   "source": [
    "response = client.chat.completions.create(\n",
    "    model=deployment,\n",
    "    messages=messageList,\n",
    "    #max_tokens=100,\n",
    "    temperature=0.0,\n",
    "    \n",
    ")\n",
    "#print(response.to_json())\n",
    "#print(response.choices[0].message.to_json())\n",
    "print(\"\\n\\n\" + response.choices[0].message.role + \" /> \" + response.choices[0].message.content)"
   ]
  }
 ],
 "metadata": {
  "kernelspec": {
   "display_name": ".venv",
   "language": "python",
   "name": "python3"
  },
  "language_info": {
   "codemirror_mode": {
    "name": "ipython",
    "version": 3
   },
   "file_extension": ".py",
   "mimetype": "text/x-python",
   "name": "python",
   "nbconvert_exporter": "python",
   "pygments_lexer": "ipython3",
   "version": "3.13.0"
  }
 },
 "nbformat": 4,
 "nbformat_minor": 2
}
