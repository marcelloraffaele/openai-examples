{
 "cells": [
  {
   "cell_type": "markdown",
   "id": "d0529d33-4c99-4c94-b5c7-0a609e75203e",
   "metadata": {},
   "source": [
    "# Crea un file `.env` con il seguente formato: \n",
    "```\n",
    "GLOBAL_LLM_SERVICE=\"AzureOpenAI\"\n",
    "AZURE_OPENAI_API_KEY=\"....\"\n",
    "AZURE_OPENAI_ENDPOINT=\"https://.....openai.azure.com/\"\n",
    "AZURE_OPENAI_CHAT_DEPLOYMENT_NAME=\"...\"\n",
    "AZURE_OPENAI_TEXT_DEPLOYMENT_NAME=\"...\"\n",
    "AZURE_OPENAI_EMBEDDING_DEPLOYMENT_NAME=\"\"\n",
    "AZURE_OPENAI_API_VERSION=\"2024-08-01-preview\"\n",
    "```"
   ]
  },
  {
   "cell_type": "markdown",
   "id": "510d6dd4",
   "metadata": {},
   "source": [
    "Initialize the dipendencies"
   ]
  },
  {
   "cell_type": "code",
   "execution_count": null,
   "id": "35421daf",
   "metadata": {},
   "outputs": [],
   "source": [
    "%pip install openai\n",
    "%pip install python_dotenv"
   ]
  },
  {
   "cell_type": "markdown",
   "id": "7f1e38ae",
   "metadata": {},
   "source": [
    "Simple example of how to use the Azure OpenAI API to chat with a model."
   ]
  },
  {
   "cell_type": "code",
   "execution_count": null,
   "id": "6cfa234b-2978-4ae6-ae41-ba110d2db671",
   "metadata": {},
   "outputs": [],
   "source": [
    "\n",
    "import os\n",
    "from openai import AzureOpenAI\n",
    "from dotenv import load_dotenv\n",
    "load_dotenv()\n",
    "\n",
    "endpoint = os.getenv(\"AZURE_OPENAI_ENDPOINT\")  \n",
    "deployment = os.getenv(\"AZURE_OPENAI_CHAT_DEPLOYMENT_NAME\")  \n",
    "api_key = os.getenv(\"AZURE_OPENAI_API_KEY\")  \n",
    "api_version = os.getenv(\"AZURE_OPENAI_API_VERSION\")\n",
    "\n",
    "\n",
    "client = AzureOpenAI(\n",
    "    azure_endpoint=endpoint,\n",
    "    api_key=api_key,\n",
    "    api_version= api_version)\n",
    "response = client.chat.completions.create(\n",
    "    model=deployment,\n",
    "    messages=[\n",
    "        {\"role\": \"user\", \"content\": \"What steps should I think about when writing my first Python API?\"},\n",
    "     ],\n",
    ")\n",
    "print(response.to_json())\n"
   ]
  }
 ],
 "metadata": {
  "kernelspec": {
   "display_name": ".venv",
   "language": "python",
   "name": "python3"
  },
  "language_info": {
   "codemirror_mode": {
    "name": "ipython",
    "version": 3
   },
   "file_extension": ".py",
   "mimetype": "text/x-python",
   "name": "python",
   "nbconvert_exporter": "python",
   "pygments_lexer": "ipython3",
   "version": "3.11.9"
  }
 },
 "nbformat": 4,
 "nbformat_minor": 5
}
