{
 "cells": [
  {
   "cell_type": "code",
   "execution_count": null,
   "metadata": {},
   "outputs": [],
   "source": [
    "%pip install gradio"
   ]
  },
  {
   "cell_type": "code",
   "execution_count": null,
   "metadata": {},
   "outputs": [],
   "source": [
    "import gradio as gr\n",
    "\n",
    "def greet(name, intensity, file1):\n",
    "    return (\n",
    "        \"# Hello, \" + name + \"!\" * int(intensity) +\n",
    "        \"\\n## Files\" +\n",
    "        \"\\n- First file chosen: \" + file1.name,\n",
    "        file1\n",
    "    )\n",
    "\n",
    "demo = gr.Interface(\n",
    "    fn=greet,\n",
    "    inputs=[\n",
    "        \"text\",\n",
    "        \"slider\",\n",
    "        gr.File(label=\"First file\"),\n",
    "        \n",
    "    ],\n",
    "    outputs=[ gr.Markdown(), gr.Image(label=\"Image\") ],\n",
    "    title=\"Compare\",\n",
    ")\n",
    "\n",
    "demo.launch()\n"
   ]
  }
 ],
 "metadata": {
  "kernelspec": {
   "display_name": ".venv",
   "language": "python",
   "name": "python3"
  },
  "language_info": {
   "codemirror_mode": {
    "name": "ipython",
    "version": 3
   },
   "file_extension": ".py",
   "mimetype": "text/x-python",
   "name": "python",
   "nbconvert_exporter": "python",
   "pygments_lexer": "ipython3",
   "version": "3.11.9"
  }
 },
 "nbformat": 4,
 "nbformat_minor": 2
}
